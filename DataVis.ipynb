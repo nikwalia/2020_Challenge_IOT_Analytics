{
 "cells": [
  {
   "cell_type": "code",
   "execution_count": null,
   "metadata": {
    "collapsed": true
   },
   "outputs": [],
   "source": [
    "import hdf_helper\n",
    "from scipy.ndimage import gaussian_filter1d\n",
    "from matplotlib import pyplot as plt\n",
    "import pandas as pd\n",
    "import numpy as np\n",
    "import seaborn as sns\n",
    "from sklearn.preprocessing import MinMaxScaler\n",
    "from sklearn.ensemble import IsolationForest\n",
    "from scipy import stats\n",
    "%matplotlib inline\n",
    "import os"
   ]
  },
  {
   "cell_type": "code",
   "execution_count": null,
   "outputs": [],
   "source": [
    "df_data_one = hdf_helper.h5_to_df('competitionfiles/COOLCAT_20091219_074253_24_20091219_074253_240.hdf')\n",
    "df_data_two = hdf_helper.h5_to_df('competitionfiles/COOLCAT_20091220_103626_08_20091220_103626_080.hdf')\n",
    "\n",
    "\n"
   ],
   "metadata": {
    "collapsed": false,
    "pycharm": {
     "name": "#%%\n"
    }
   }
  },
  {
   "cell_type": "code",
   "execution_count": null,
   "outputs": [],
   "source": [
    "for channel in df_data_one.columns:\n",
    "    for same_channel in df_data_two.columns:\n",
    "        sns.distplot(df_data_two[channel])\n",
    "        sns.distplot(df_data_one[channel])\n",
    "        Y = np.array(df_data_two[channel])\n",
    "        X = np.array(df_data_one[channel])\n",
    "        X= X.reshape(-1, 1)\n",
    "        Y = Y.reshape(-1, 1)\n",
    "        clf = IsolationForest(random_state=0).fit(X)\n",
    "#         print(np.array(clf.predict(Y)))\n",
    "        print(clf.predict(Y))    \n",
    "        plt.show()\n",
    "        break"
   ],
   "metadata": {
    "collapsed": false,
    "pycharm": {
     "name": "#%%\n"
    }
   }
  },
  {
   "cell_type": "code",
   "execution_count": null,
   "outputs": [],
   "source": [
    "directory = 'competitionfiles'\n",
    "data = \"\"\n",
    "for filename in os.listdir(directory):\n",
    "    if filename.endswith(\".hdf\"):\n",
    "        path = directory + \"/\" + filename\n",
    "        data = hdf_helper.h5_to_df(path)\n",
    "        break\n",
    "for channel in data:\n",
    "    channel_df = data[channel]\n",
    "    print(channel_df)\n",
    "    sns.distplot(data[channel])\n",
    "    plt.show()\n",
    "    channel_df.add(100987)"
   ],
   "metadata": {
    "collapsed": false,
    "pycharm": {
     "name": "#%%\n"
    }
   }
  },
  {
   "cell_type": "code",
   "execution_count": null,
   "outputs": [],
   "source": [
    "\n"
   ],
   "metadata": {
    "collapsed": false,
    "pycharm": {
     "name": "#%%\n"
    }
   }
  }
 ],
 "metadata": {
  "kernelspec": {
   "display_name": "Python 3",
   "language": "python",
   "name": "python3"
  },
  "language_info": {
   "codemirror_mode": {
    "name": "ipython",
    "version": 2
   },
   "file_extension": ".py",
   "mimetype": "text/x-python",
   "name": "python",
   "nbconvert_exporter": "python",
   "pygments_lexer": "ipython2",
   "version": "2.7.6"
  },
  "pycharm": {
   "stem_cell": {
    "cell_type": "raw",
    "source": [],
    "metadata": {
     "collapsed": false
    }
   }
  }
 },
 "nbformat": 4,
 "nbformat_minor": 0
}