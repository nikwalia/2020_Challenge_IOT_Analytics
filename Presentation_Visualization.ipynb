{
 "cells": [
  {
   "cell_type": "code",
   "execution_count": 2,
   "metadata": {},
   "outputs": [],
   "source": [
    "from stat_helper import *\n",
    "from hdf_helper import *\n",
    "from data_cleaning import *\n",
    "\n",
    "from scipy.ndimage import gaussian_filter1d\n",
    "from matplotlib import pyplot as plt\n",
    "\n",
    "import pandas as pd\n",
    "import numpy as np\n",
    "import seaborn as sns\n",
    "\n",
    "from dateutil.parser import parse\n",
    "from datetime import datetime, date, time, timedelta\n",
    "import os\n",
    "import re\n",
    "\n",
    "from sklearn.preprocessing import MinMaxScaler\n",
    "from sklearn.ensemble import IsolationForest\n",
    "from scipy import stats\n",
    "\n",
    "%matplotlib inline"
   ]
  },
  {
   "cell_type": "code",
   "execution_count": 3,
   "metadata": {},
   "outputs": [],
   "source": [
    "path = 'competitionfiles/COOLCAT_20091219_074253_24_20091219_074253_240.hdf'\n",
    "df = big_endian_problem(h5_to_df(path))"
   ]
  },
  {
   "cell_type": "code",
   "execution_count": 4,
   "metadata": {},
   "outputs": [],
   "source": [
    "stats_df = get_stats_list(df)"
   ]
  },
  {
   "cell_type": "code",
   "execution_count": null,
   "metadata": {},
   "outputs": [],
   "source": [
    "df_arr = []\n",
    "len_ch_arr = []\n",
    "len_in_arr = []\n",
    "\n",
    "files = os.listdir('./competitionfiles')\n",
    "\n",
    "for file in files[:50]:\n",
    "    \n",
    "    len_ch_arr.append(len(h5_to_df('competitionfiles/' + file).columns))\n",
    "    len_in_arr.append(len(h5_to_df('competitionfiles/' + file).index))\n",
    "    "
   ]
  },
  {
   "cell_type": "code",
   "execution_count": 13,
   "metadata": {},
   "outputs": [],
   "source": [
    "import seaborn as sns"
   ]
  },
  {
   "cell_type": "code",
   "execution_count": 33,
   "metadata": {},
   "outputs": [
    {
     "data": {
      "text/plain": [
       "(array([279.,   0., 339.,  20.,  14.,  31.,   7.,  24.,   0., 113.]),\n",
       " array([115. , 127.9, 140.8, 153.7, 166.6, 179.5, 192.4, 205.3, 218.2,\n",
       "        231.1, 244. ]),\n",
       " <a list of 10 Patch objects>)"
      ]
     },
     "execution_count": 33,
     "metadata": {},
     "output_type": "execute_result"
    },
    {
     "data": {
      "image/png": "[encoded data removed]",
      "text/plain": [
       "<Figure size 432x288 with 1 Axes>"
      ]
     },
     "metadata": {
      "needs_background": "light"
     },
     "output_type": "display_data"
    }
   ],
   "source": [
    "plt.title('Number of Channels Across Data')\n",
    "plt.xlabel('Number of Channels')\n",
    "plt.ylabel('Number of files')\n",
    "\n",
    "plt.hist(ch_arr, bins=10, alpha=0.5)"
   ]
  },
  {
   "cell_type": "code",
   "execution_count": 26,
   "metadata": {},
   "outputs": [],
   "source": [
    "in_arr_srs = pd.Series(in_arr)"
   ]
  },
  {
   "cell_type": "code",
   "execution_count": 32,
   "metadata": {},
   "outputs": [
    {
     "data": {
      "text/plain": [
       "(array([564.,  39.,  17.,  44.,  29.,  30.,  28.,  25.,  12.,  10.,   9.,\n",
       "         12.,   3.,   3.,   0.,   0.,   1.,   0.,   0.,   0.,   0.,   0.,\n",
       "          0.,   0.,   0.,   0.,   0.,   0.,   0.,   1.]),\n",
       " array([1.00000000e+00, 2.93994667e+04, 5.87979333e+04, 8.81964000e+04,\n",
       "        1.17594867e+05, 1.46993333e+05, 1.76391800e+05, 2.05790267e+05,\n",
       "        2.35188733e+05, 2.64587200e+05, 2.93985667e+05, 3.23384133e+05,\n",
       "        3.52782600e+05, 3.82181067e+05, 4.11579533e+05, 4.40978000e+05,\n",
       "        4.70376467e+05, 4.99774933e+05, 5.29173400e+05, 5.58571867e+05,\n",
       "        5.87970333e+05, 6.17368800e+05, 6.46767267e+05, 6.76165733e+05,\n",
       "        7.05564200e+05, 7.34962667e+05, 7.64361133e+05, 7.93759600e+05,\n",
       "        8.23158067e+05, 8.52556533e+05, 8.81955000e+05]),\n",
       " <a list of 30 Patch objects>)"
      ]
     },
     "execution_count": 32,
     "metadata": {},
     "output_type": "execute_result"
    },
    {
     "data": {
      "image/png": "[encoded data removed]",
      "text/plain": [
       "<Figure size 432x288 with 1 Axes>"
      ]
     },
     "metadata": {
      "needs_background": "light"
     },
     "output_type": "display_data"
    }
   ],
   "source": [
    "plt.title('Number of Datapoints Across Data')\n",
    "plt.xlabel('Number of Datapoints')\n",
    "plt.ylabel('Number of Files')\n",
    "plt.hist(in_arr_srs, bins=30, alpha=0.5)"
   ]
  },
  {
   "cell_type": "code",
   "execution_count": 34,
   "metadata": {},
   "outputs": [],
   "source": [
    "files = os.listdir('./competitionfiles')\n",
    "stats_list = []\n",
    "\n",
    "for file in files[:100]:\n",
    "    stats_list.append(get_stats_list(h5_to_df('competitionfiles/' + file)))\n",
    "    "
   ]
  },
  {
   "cell_type": "code",
   "execution_count": 59,
   "metadata": {},
   "outputs": [
    {
     "data": {
      "text/plain": [
       "(array([106.,   0.,   0.,   0.,   0.,   0.,   0.,   0.,   0.,   2.]),\n",
       " array([-7.01880854e+02,  3.16496710e+13,  6.32993419e+13,  9.49490129e+13,\n",
       "         1.26598684e+14,  1.58248355e+14,  1.89898026e+14,  2.21547697e+14,\n",
       "         2.53197368e+14,  2.84847039e+14,  3.16496710e+14]),\n",
       " <a list of 10 Patch objects>)"
      ]
     },
     "execution_count": 59,
     "metadata": {},
     "output_type": "execute_result"
    },
    {
     "data": {
      "image/png": "[encoded data removed]",
      "text/plain": [
       "<Figure size 432x288 with 1 Axes>"
      ]
     },
     "metadata": {
      "needs_background": "light"
     },
     "output_type": "display_data"
    }
   ],
   "source": [
    "\n",
    "# Change the second index to change between stats\n",
    "# order of [calc_mean(df),calc_median(df),calc_std(df),calc_max(df),calc_min(df)]\n",
    "total_mean = stats_list[0][0][:]\n",
    "for i in range(1,len(stats_list)):\n",
    "    total_mean += stats_list[i][0][:]\n",
    "total_mean /= len(stats_list)\n",
    "\n",
    "plt.title('Channel Data Mean')\n",
    "plt.hist(total_mean, bins=10, alpha=0.5)"
   ]
  },
  {
   "cell_type": "code",
   "execution_count": 60,
   "metadata": {},
   "outputs": [
    {
     "data": {
      "text/plain": [
       "ch_1      3.400827e+03\n",
       "ch_10     3.516407e+02\n",
       "ch_100    4.572675e+02\n",
       "ch_101    1.192639e+02\n",
       "ch_102    5.418988e+08\n",
       "              ...     \n",
       "ch_95     3.610061e+04\n",
       "ch_96     2.509192e+04\n",
       "ch_97     2.279268e+03\n",
       "ch_98     1.354183e+05\n",
       "ch_99     7.463692e+03\n",
       "Length: 142, dtype: float64"
      ]
     },
     "execution_count": 60,
     "metadata": {},
     "output_type": "execute_result"
    }
   ],
   "source": [
    "total_mean"
   ]
  },
  {
   "cell_type": "code",
   "execution_count": null,
   "metadata": {},
   "outputs": [],
   "source": []
  }
 ],
 "metadata": {
  "kernelspec": {
   "display_name": "Python 3",
   "language": "python",
   "name": "python3"
  },
  "language_info": {
   "codemirror_mode": {
    "name": "ipython",
    "version": 3
   },
   "file_extension": ".py",
   "mimetype": "text/x-python",
   "name": "python",
   "nbconvert_exporter": "python",
   "pygments_lexer": "ipython3",
   "version": "3.8.1"
  }
 },
 "nbformat": 4,
 "nbformat_minor": 4
}
