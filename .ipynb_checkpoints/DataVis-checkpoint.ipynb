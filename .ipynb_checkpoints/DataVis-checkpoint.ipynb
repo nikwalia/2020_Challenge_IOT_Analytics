{
 "cells": [
  {
   "cell_type": "code",
   "execution_count": 1,
   "metadata": {},
   "outputs": [],
   "source": [
    "import hdf_helper\n",
    "from scipy.ndimage import gaussian_filter1d\n",
    "from matplotlib import pyplot as plt\n",
    "import pandas as pd\n",
    "import numpy as np\n",
    "import seaborn as sns\n",
    "from sklearn.preprocessing import MinMaxScaler\n",
    "from sklearn.ensemble import IsolationForest\n",
    "from scipy import stats\n",
    "from scipy.sparse import csc_matrix\n",
    "%matplotlib inline\n",
    "import os"
   ]
  },
  {
   "cell_type": "code",
   "execution_count": 117,
   "metadata": {
    "pycharm": {
     "name": "#%%\n"
    }
   },
   "outputs": [],
   "source": [
    "for file in os.listdir('dat'):\n",
    "    df_ch_1 = pd.read_csv('dat/' + file).drop(['Unnamed: 0'], axis = 1)\n",
    "    df_ch_1 = df_ch_1.replace(np.NAN, 0)\n",
    "    zero_outliers = df_ch_1.loc[:, (df_ch_1 == 0.0).all(axis=0)]\n",
    "    reg_data = df_ch_1.loc[:, (df_ch_1 != 0).any(axis=0)]\n",
    "    train_data = reg_data.to_numpy().T"
   ]
  },
  {
   "cell_type": "code",
   "execution_count": 118,
   "metadata": {},
   "outputs": [
    {
     "name": "stderr",
     "output_type": "stream",
     "text": [
      "C:\\ProgramData\\Anaconda3\\lib\\site-packages\\sklearn\\ensemble\\iforest.py:237: FutureWarning: default contamination parameter 0.1 will change in version 0.22 to \"auto\". This will change the predict method behavior.\n",
      "  FutureWarning)\n",
      "C:\\ProgramData\\Anaconda3\\lib\\site-packages\\sklearn\\ensemble\\iforest.py:247: FutureWarning: behaviour=\"old\" is deprecated and will be removed in version 0.22. Please use behaviour=\"new\", which makes the decision_function change to match other anomaly detection algorithm API.\n",
      "  FutureWarning)\n",
      "C:\\ProgramData\\Anaconda3\\lib\\site-packages\\sklearn\\ensemble\\iforest.py:415: DeprecationWarning: threshold_ attribute is deprecated in 0.20 and will be removed in 0.22.\n",
      "  \" be removed in 0.22.\", DeprecationWarning)\n"
     ]
    },
    {
     "data": {
      "text/plain": [
       "[<matplotlib.lines.Line2D at 0x1ac1392ce48>,\n",
       " <matplotlib.lines.Line2D at 0x1ac13929908>,\n",
       " <matplotlib.lines.Line2D at 0x1ac13929748>,\n",
       " <matplotlib.lines.Line2D at 0x1ac13929588>,\n",
       " <matplotlib.lines.Line2D at 0x1ac13929388>,\n",
       " <matplotlib.lines.Line2D at 0x1ac13929188>,\n",
       " <matplotlib.lines.Line2D at 0x1ac13a43f88>,\n",
       " <matplotlib.lines.Line2D at 0x1ac13a43d88>,\n",
       " <matplotlib.lines.Line2D at 0x1ac139293c8>,\n",
       " <matplotlib.lines.Line2D at 0x1ac139291c8>,\n",
       " <matplotlib.lines.Line2D at 0x1ac13a46748>,\n",
       " <matplotlib.lines.Line2D at 0x1ac13a43548>,\n",
       " <matplotlib.lines.Line2D at 0x1ac13a43308>,\n",
       " <matplotlib.lines.Line2D at 0x1ac13a430c8>,\n",
       " <matplotlib.lines.Line2D at 0x1ac13a41e48>,\n",
       " <matplotlib.lines.Line2D at 0x1ac13a41c08>,\n",
       " <matplotlib.lines.Line2D at 0x1ac13a419c8>,\n",
       " <matplotlib.lines.Line2D at 0x1ac13a41788>,\n",
       " <matplotlib.lines.Line2D at 0x1ac13a41548>,\n",
       " <matplotlib.lines.Line2D at 0x1ac13a41308>,\n",
       " <matplotlib.lines.Line2D at 0x1ac13a410c8>,\n",
       " <matplotlib.lines.Line2D at 0x1ac13a3ee48>,\n",
       " <matplotlib.lines.Line2D at 0x1ac13a3ec08>,\n",
       " <matplotlib.lines.Line2D at 0x1ac13a3e9c8>,\n",
       " <matplotlib.lines.Line2D at 0x1ac13a3e788>,\n",
       " <matplotlib.lines.Line2D at 0x1ac13a3e548>,\n",
       " <matplotlib.lines.Line2D at 0x1ac13a3e308>,\n",
       " <matplotlib.lines.Line2D at 0x1ac13a3e0c8>,\n",
       " <matplotlib.lines.Line2D at 0x1ac13a3b1c8>,\n",
       " <matplotlib.lines.Line2D at 0x1ac13a3b408>,\n",
       " <matplotlib.lines.Line2D at 0x1ac13a3b648>,\n",
       " <matplotlib.lines.Line2D at 0x1ac13a3b888>,\n",
       " <matplotlib.lines.Line2D at 0x1ac13a3bac8>,\n",
       " <matplotlib.lines.Line2D at 0x1ac13a3bd08>,\n",
       " <matplotlib.lines.Line2D at 0x1ac13a3bf48>,\n",
       " <matplotlib.lines.Line2D at 0x1ac13a34e48>,\n",
       " <matplotlib.lines.Line2D at 0x1ac13a34c08>,\n",
       " <matplotlib.lines.Line2D at 0x1ac13a349c8>,\n",
       " <matplotlib.lines.Line2D at 0x1ac13a34788>,\n",
       " <matplotlib.lines.Line2D at 0x1ac13a34548>,\n",
       " <matplotlib.lines.Line2D at 0x1ac13a34308>,\n",
       " <matplotlib.lines.Line2D at 0x1ac13a340c8>,\n",
       " <matplotlib.lines.Line2D at 0x1ac13a311c8>,\n",
       " <matplotlib.lines.Line2D at 0x1ac13a31408>,\n",
       " <matplotlib.lines.Line2D at 0x1ac13a31688>,\n",
       " <matplotlib.lines.Line2D at 0x1ac13a31908>,\n",
       " <matplotlib.lines.Line2D at 0x1ac13a31b88>,\n",
       " <matplotlib.lines.Line2D at 0x1ac13a31e08>,\n",
       " <matplotlib.lines.Line2D at 0x1ac13a2ef48>,\n",
       " <matplotlib.lines.Line2D at 0x1ac13a2ecc8>,\n",
       " <matplotlib.lines.Line2D at 0x1ac13a2ea48>,\n",
       " <matplotlib.lines.Line2D at 0x1ac13a2e7c8>,\n",
       " <matplotlib.lines.Line2D at 0x1ac13a2e548>,\n",
       " <matplotlib.lines.Line2D at 0x1ac13a2e2c8>]"
      ]
     },
     "execution_count": 118,
     "metadata": {},
     "output_type": "execute_result"
    },
    {
     "data": {
      "image/png": "[encoded data removed]",
      "text/plain": [
       "<Figure size 432x288 with 1 Axes>"
      ]
     },
     "metadata": {
      "needs_background": "light"
     },
     "output_type": "display_data"
    }
   ],
   "source": [
    "clf = IsolationForest().fit_predict(train_data)\n",
    "plt.plot(reg_data)"
   ]
  },
  {
   "cell_type": "code",
   "execution_count": 119,
   "metadata": {},
   "outputs": [
    {
     "data": {
      "text/plain": [
       "array([ 1,  1,  1,  1,  1,  1, -1, -1, -1,  1,  1,  1,  1, -1,  1,  1, -1,\n",
       "        1,  1,  1,  1,  1,  1,  1,  1,  1,  1,  1,  1,  1,  1,  1,  1,  1,\n",
       "        1,  1,  1,  1,  1,  1,  1,  1,  1,  1,  1, -1,  1,  1,  1,  1,  1,\n",
       "        1,  1,  1])"
      ]
     },
     "execution_count": 119,
     "metadata": {},
     "output_type": "execute_result"
    }
   ],
   "source": [
    "clf"
   ]
  },
  {
   "cell_type": "code",
   "execution_count": 120,
   "metadata": {},
   "outputs": [
    {
     "data": {
      "text/plain": [
       "[<matplotlib.lines.Line2D at 0x1abbe0f4588>,\n",
       " <matplotlib.lines.Line2D at 0x1abbe100288>,\n",
       " <matplotlib.lines.Line2D at 0x1abbe100448>,\n",
       " <matplotlib.lines.Line2D at 0x1abbe100608>,\n",
       " <matplotlib.lines.Line2D at 0x1abbe100808>,\n",
       " <matplotlib.lines.Line2D at 0x1abbe100a08>,\n",
       " <matplotlib.lines.Line2D at 0x1abbe100bc8>,\n",
       " <matplotlib.lines.Line2D at 0x1abbe100d88>,\n",
       " <matplotlib.lines.Line2D at 0x1abbe1007c8>,\n",
       " <matplotlib.lines.Line2D at 0x1abbe1009c8>,\n",
       " <matplotlib.lines.Line2D at 0x1abbda7d888>,\n",
       " <matplotlib.lines.Line2D at 0x1abbe105608>,\n",
       " <matplotlib.lines.Line2D at 0x1abbe105848>,\n",
       " <matplotlib.lines.Line2D at 0x1abbe105a88>,\n",
       " <matplotlib.lines.Line2D at 0x1abbe105cc8>,\n",
       " <matplotlib.lines.Line2D at 0x1abbe105f08>,\n",
       " <matplotlib.lines.Line2D at 0x1abbe108188>,\n",
       " <matplotlib.lines.Line2D at 0x1abbe1083c8>,\n",
       " <matplotlib.lines.Line2D at 0x1abbe108608>,\n",
       " <matplotlib.lines.Line2D at 0x1abbe108848>,\n",
       " <matplotlib.lines.Line2D at 0x1abbe108a88>,\n",
       " <matplotlib.lines.Line2D at 0x1abbe108cc8>,\n",
       " <matplotlib.lines.Line2D at 0x1abbe108f08>,\n",
       " <matplotlib.lines.Line2D at 0x1abbe10b188>,\n",
       " <matplotlib.lines.Line2D at 0x1abbe10b3c8>,\n",
       " <matplotlib.lines.Line2D at 0x1abbe10b608>,\n",
       " <matplotlib.lines.Line2D at 0x1abbe10b848>,\n",
       " <matplotlib.lines.Line2D at 0x1abbe10ba88>,\n",
       " <matplotlib.lines.Line2D at 0x1abbe10bcc8>,\n",
       " <matplotlib.lines.Line2D at 0x1abbe10bf08>,\n",
       " <matplotlib.lines.Line2D at 0x1abbe10e188>,\n",
       " <matplotlib.lines.Line2D at 0x1abbe10e3c8>,\n",
       " <matplotlib.lines.Line2D at 0x1abbe10e608>,\n",
       " <matplotlib.lines.Line2D at 0x1abbe10e848>,\n",
       " <matplotlib.lines.Line2D at 0x1abbe10ea88>,\n",
       " <matplotlib.lines.Line2D at 0x1abbe10ecc8>,\n",
       " <matplotlib.lines.Line2D at 0x1abbe10ef08>,\n",
       " <matplotlib.lines.Line2D at 0x1abbe111188>,\n",
       " <matplotlib.lines.Line2D at 0x1abbe1113c8>,\n",
       " <matplotlib.lines.Line2D at 0x1abbe111608>,\n",
       " <matplotlib.lines.Line2D at 0x1abbe111848>,\n",
       " <matplotlib.lines.Line2D at 0x1abbe111a88>,\n",
       " <matplotlib.lines.Line2D at 0x1abbe111cc8>,\n",
       " <matplotlib.lines.Line2D at 0x1abbe111f08>,\n",
       " <matplotlib.lines.Line2D at 0x1abbe114188>,\n",
       " <matplotlib.lines.Line2D at 0x1abbe1143c8>,\n",
       " <matplotlib.lines.Line2D at 0x1abbe114608>,\n",
       " <matplotlib.lines.Line2D at 0x1abbe114848>]"
      ]
     },
     "execution_count": 120,
     "metadata": {},
     "output_type": "execute_result"
    },
    {
     "data": {
      "image/png": "[encoded data removed]",
      "text/plain": [
       "<Figure size 432x288 with 1 Axes>"
      ]
     },
     "metadata": {
      "needs_background": "light"
     },
     "output_type": "display_data"
    }
   ],
   "source": [
    "pass_cond = clf == 1\n",
    "non_outliers = reg_data.iloc[:, pass_cond]\n",
    "plt.plot(non_outliers)"
   ]
  },
  {
   "cell_type": "code",
   "execution_count": 121,
   "metadata": {},
   "outputs": [
    {
     "data": {
      "text/plain": [
       "[<matplotlib.lines.Line2D at 0x1ac161714c8>,\n",
       " <matplotlib.lines.Line2D at 0x1ac1617e1c8>,\n",
       " <matplotlib.lines.Line2D at 0x1ac1617e388>,\n",
       " <matplotlib.lines.Line2D at 0x1ac1617e548>,\n",
       " <matplotlib.lines.Line2D at 0x1ac1617e748>,\n",
       " <matplotlib.lines.Line2D at 0x1ac1617e948>]"
      ]
     },
     "execution_count": 121,
     "metadata": {},
     "output_type": "execute_result"
    },
    {
     "data": {
      "image/png": "[encoded data removed]",
      "text/plain": [
       "<Figure size 432x288 with 1 Axes>"
      ]
     },
     "metadata": {
      "needs_background": "light"
     },
     "output_type": "display_data"
    }
   ],
   "source": [
    "fail_cond = clf == -1\n",
    "outliers = reg_data.iloc[:, fail_cond]\n",
    "plt.plot(outliers)"
   ]
  },
  {
   "cell_type": "code",
   "execution_count": null,
   "metadata": {},
   "outputs": [],
   "source": []
  }
 ],
 "metadata": {
  "kernelspec": {
   "display_name": "Python 3",
   "language": "python",
   "name": "python3"
  },
  "language_info": {
   "codemirror_mode": {
    "name": "ipython",
    "version": 3
   },
   "file_extension": ".py",
   "mimetype": "text/x-python",
   "name": "python",
   "nbconvert_exporter": "python",
   "pygments_lexer": "ipython3",
   "version": "3.7.4"
  },
  "pycharm": {
   "stem_cell": {
    "cell_type": "raw",
    "metadata": {
     "collapsed": false
    },
    "source": []
   }
  }
 },
 "nbformat": 4,
 "nbformat_minor": 1
}
