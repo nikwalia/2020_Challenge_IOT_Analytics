{
 "cells": [
  {
   "cell_type": "code",
   "execution_count": 17,
   "metadata": {
    "pycharm": {
     "is_executing": false
    }
   },
   "outputs": [],
   "source": [
    "import stat_helper\n",
    "import hdf_helper\n",
    "from scipy.ndimage import gaussian_filter1d\n",
    "from matplotlib import pyplot as plt\n",
    "import pandas as pd\n",
    "import numpy as np"
   ]
  },
  {
   "cell_type": "code",
   "execution_count": 18,
   "metadata": {
    "pycharm": {
     "is_executing": false
    }
   },
   "outputs": [],
   "source": [
    "df = hdf_helper.h5_to_df('demo.hdf')"
   ]
  },
  {
   "cell_type": "code",
   "execution_count": 19,
   "metadata": {
    "pycharm": {
     "is_executing": false
    }
   },
   "outputs": [
    {
     "data": {
      "text/plain": "199.01103771447984"
     },
     "metadata": {},
     "output_type": "execute_result",
     "execution_count": 19
    }
   ],
   "source": [
    "std = df.std(axis = 0)\n",
    "std['ch_0']"
   ]
  },
  {
   "cell_type": "code",
   "execution_count": 20,
   "metadata": {
    "pycharm": {
     "is_executing": false
    }
   },
   "outputs": [
    {
     "data": {
      "text/plain": "[<matplotlib.lines.Line2D at 0x1b3d3ee2148>,\n <matplotlib.lines.Line2D at 0x1b3d3ee2408>,\n <matplotlib.lines.Line2D at 0x1b3d3ee25c8>,\n <matplotlib.lines.Line2D at 0x1b3d3ee2788>,\n <matplotlib.lines.Line2D at 0x1b3d3ee2988>,\n <matplotlib.lines.Line2D at 0x1b3d3ee2bc8>,\n <matplotlib.lines.Line2D at 0x1b3d3ee2dc8>,\n <matplotlib.lines.Line2D at 0x1b3d3ee6048>,\n <matplotlib.lines.Line2D at 0x1b3d3ee2948>,\n <matplotlib.lines.Line2D at 0x1b3d3ee2b48>,\n <matplotlib.lines.Line2D at 0x1b3d3c6edc8>,\n <matplotlib.lines.Line2D at 0x1b3d3ee6888>,\n <matplotlib.lines.Line2D at 0x1b3d3ee6ac8>,\n <matplotlib.lines.Line2D at 0x1b3d3ee6d08>,\n <matplotlib.lines.Line2D at 0x1b3d3ee6f48>,\n <matplotlib.lines.Line2D at 0x1b3d3eea1c8>,\n <matplotlib.lines.Line2D at 0x1b3d3eea408>,\n <matplotlib.lines.Line2D at 0x1b3d3eea648>,\n <matplotlib.lines.Line2D at 0x1b3d3eea888>,\n <matplotlib.lines.Line2D at 0x1b3d3eeaac8>,\n <matplotlib.lines.Line2D at 0x1b3d3eead08>,\n <matplotlib.lines.Line2D at 0x1b3d3eeaf48>,\n <matplotlib.lines.Line2D at 0x1b3d3eed1c8>,\n <matplotlib.lines.Line2D at 0x1b3d3eed408>,\n <matplotlib.lines.Line2D at 0x1b3d3eed648>,\n <matplotlib.lines.Line2D at 0x1b3d3eed888>,\n <matplotlib.lines.Line2D at 0x1b3d3eedac8>,\n <matplotlib.lines.Line2D at 0x1b3d3eedd08>,\n <matplotlib.lines.Line2D at 0x1b3d3eedf48>,\n <matplotlib.lines.Line2D at 0x1b3d3ef01c8>,\n <matplotlib.lines.Line2D at 0x1b3d3ef0408>,\n <matplotlib.lines.Line2D at 0x1b3d3ef0648>,\n <matplotlib.lines.Line2D at 0x1b3d3ef0888>,\n <matplotlib.lines.Line2D at 0x1b3d3ef0ac8>,\n <matplotlib.lines.Line2D at 0x1b3d3ef0d08>,\n <matplotlib.lines.Line2D at 0x1b3d3ef0f48>,\n <matplotlib.lines.Line2D at 0x1b3d3ef31c8>,\n <matplotlib.lines.Line2D at 0x1b3d3ef3408>,\n <matplotlib.lines.Line2D at 0x1b3d3ef3648>,\n <matplotlib.lines.Line2D at 0x1b3d3ef3888>,\n <matplotlib.lines.Line2D at 0x1b3d3ef3ac8>,\n <matplotlib.lines.Line2D at 0x1b3d3ef3d08>,\n <matplotlib.lines.Line2D at 0x1b3d3ef3f48>,\n <matplotlib.lines.Line2D at 0x1b3d3ef61c8>,\n <matplotlib.lines.Line2D at 0x1b3d3ef6408>,\n <matplotlib.lines.Line2D at 0x1b3d3ef6648>,\n <matplotlib.lines.Line2D at 0x1b3d3ef6888>,\n <matplotlib.lines.Line2D at 0x1b3d3ef6b08>,\n <matplotlib.lines.Line2D at 0x1b3d3ef6d88>,\n <matplotlib.lines.Line2D at 0x1b3d3ef9048>,\n <matplotlib.lines.Line2D at 0x1b3d3ef92c8>,\n <matplotlib.lines.Line2D at 0x1b3d3ef9548>,\n <matplotlib.lines.Line2D at 0x1b3d3ef97c8>,\n <matplotlib.lines.Line2D at 0x1b3d3ef9a48>,\n <matplotlib.lines.Line2D at 0x1b3d3ef9cc8>,\n <matplotlib.lines.Line2D at 0x1b3d3ef9f48>,\n <matplotlib.lines.Line2D at 0x1b3d3efc208>,\n <matplotlib.lines.Line2D at 0x1b3d3efc488>,\n <matplotlib.lines.Line2D at 0x1b3d3efc708>,\n <matplotlib.lines.Line2D at 0x1b3d3efc988>,\n <matplotlib.lines.Line2D at 0x1b3d3efcc08>,\n <matplotlib.lines.Line2D at 0x1b3d3efce88>,\n <matplotlib.lines.Line2D at 0x1b3d3eff148>,\n <matplotlib.lines.Line2D at 0x1b3d3eff3c8>,\n <matplotlib.lines.Line2D at 0x1b3d3eff648>,\n <matplotlib.lines.Line2D at 0x1b3d3eff8c8>,\n <matplotlib.lines.Line2D at 0x1b3d3effb48>,\n <matplotlib.lines.Line2D at 0x1b3d3effdc8>,\n <matplotlib.lines.Line2D at 0x1b3d3f02088>,\n <matplotlib.lines.Line2D at 0x1b3d3f02308>,\n <matplotlib.lines.Line2D at 0x1b3d3f02588>,\n <matplotlib.lines.Line2D at 0x1b3d3f02808>,\n <matplotlib.lines.Line2D at 0x1b3d3f02a88>,\n <matplotlib.lines.Line2D at 0x1b3d3f02d08>,\n <matplotlib.lines.Line2D at 0x1b3d3f02f88>,\n <matplotlib.lines.Line2D at 0x1b3d3f04248>,\n <matplotlib.lines.Line2D at 0x1b3d3f044c8>,\n <matplotlib.lines.Line2D at 0x1b3d3f04748>,\n <matplotlib.lines.Line2D at 0x1b3d3f049c8>,\n <matplotlib.lines.Line2D at 0x1b3d3f04c48>,\n <matplotlib.lines.Line2D at 0x1b3d3f04ec8>,\n <matplotlib.lines.Line2D at 0x1b3d3f07188>,\n <matplotlib.lines.Line2D at 0x1b3d3f07408>,\n <matplotlib.lines.Line2D at 0x1b3d3f07688>,\n <matplotlib.lines.Line2D at 0x1b3d3f07908>,\n <matplotlib.lines.Line2D at 0x1b3d3f07b88>,\n <matplotlib.lines.Line2D at 0x1b3d3f07e08>,\n <matplotlib.lines.Line2D at 0x1b3d3f0a0c8>,\n <matplotlib.lines.Line2D at 0x1b3d3f0a348>,\n <matplotlib.lines.Line2D at 0x1b3d3f0a5c8>,\n <matplotlib.lines.Line2D at 0x1b3d3f0a848>,\n <matplotlib.lines.Line2D at 0x1b3d3f0aac8>,\n <matplotlib.lines.Line2D at 0x1b3d3f0ad48>,\n <matplotlib.lines.Line2D at 0x1b3d3f0afc8>,\n <matplotlib.lines.Line2D at 0x1b3d3f0d288>,\n <matplotlib.lines.Line2D at 0x1b3d3f0d508>,\n <matplotlib.lines.Line2D at 0x1b3d3f0d788>,\n <matplotlib.lines.Line2D at 0x1b3d3f0da08>,\n <matplotlib.lines.Line2D at 0x1b3d3f0dc88>,\n <matplotlib.lines.Line2D at 0x1b3d3f0df08>,\n <matplotlib.lines.Line2D at 0x1b3d3f101c8>,\n <matplotlib.lines.Line2D at 0x1b3d3f10448>,\n <matplotlib.lines.Line2D at 0x1b3d3f106c8>,\n <matplotlib.lines.Line2D at 0x1b3d3f10948>,\n <matplotlib.lines.Line2D at 0x1b3d3f10bc8>,\n <matplotlib.lines.Line2D at 0x1b3d3f10e48>,\n <matplotlib.lines.Line2D at 0x1b3d3f12108>,\n <matplotlib.lines.Line2D at 0x1b3d3f12388>,\n <matplotlib.lines.Line2D at 0x1b3d3f12608>,\n <matplotlib.lines.Line2D at 0x1b3d3f12888>,\n <matplotlib.lines.Line2D at 0x1b3d3f12b08>,\n <matplotlib.lines.Line2D at 0x1b3d3f12d88>,\n <matplotlib.lines.Line2D at 0x1b3d3f16048>,\n <matplotlib.lines.Line2D at 0x1b3d3f162c8>,\n <matplotlib.lines.Line2D at 0x1b3d3f16548>,\n <matplotlib.lines.Line2D at 0x1b3d3f167c8>,\n <matplotlib.lines.Line2D at 0x1b3d3f16a48>,\n <matplotlib.lines.Line2D at 0x1b3d3f16cc8>,\n <matplotlib.lines.Line2D at 0x1b3d3f16f48>,\n <matplotlib.lines.Line2D at 0x1b3d3f19208>,\n <matplotlib.lines.Line2D at 0x1b3d3f19488>,\n <matplotlib.lines.Line2D at 0x1b3d3f19708>,\n <matplotlib.lines.Line2D at 0x1b3d3f19988>,\n <matplotlib.lines.Line2D at 0x1b3d3f19c08>,\n <matplotlib.lines.Line2D at 0x1b3d3f19e88>,\n <matplotlib.lines.Line2D at 0x1b3d3f1c148>,\n <matplotlib.lines.Line2D at 0x1b3d3f1c3c8>,\n <matplotlib.lines.Line2D at 0x1b3d3f1c648>,\n <matplotlib.lines.Line2D at 0x1b3d3f1c8c8>,\n <matplotlib.lines.Line2D at 0x1b3d3f1cb48>,\n <matplotlib.lines.Line2D at 0x1b3d3f1cdc8>,\n <matplotlib.lines.Line2D at 0x1b3d3f1f088>,\n <matplotlib.lines.Line2D at 0x1b3d3f1f308>,\n <matplotlib.lines.Line2D at 0x1b3d3f1f588>,\n <matplotlib.lines.Line2D at 0x1b3d3f1f808>,\n <matplotlib.lines.Line2D at 0x1b3d3f1fa88>,\n <matplotlib.lines.Line2D at 0x1b3d3f1fd08>,\n <matplotlib.lines.Line2D at 0x1b3d3f1ff88>,\n <matplotlib.lines.Line2D at 0x1b3d3f22248>,\n <matplotlib.lines.Line2D at 0x1b3d3f224c8>,\n <matplotlib.lines.Line2D at 0x1b3d3f22748>,\n <matplotlib.lines.Line2D at 0x1b3d3f229c8>]"
     },
     "metadata": {},
     "output_type": "execute_result",
     "execution_count": 20
    },
    {
     "data": {
      "text/plain": "<Figure size 432x288 with 1 Axes>",
      "image/png": "[encoded data removed]"
     },
     "metadata": {
      "needs_background": "light"
     },
     "output_type": "display_data"
    }
   ],
   "source": [
    "for channel in df.columns:\n",
    "    df[channel] = gaussian_filter1d(df[channel].to_numpy(), 6)\n",
    "\n",
    "plt.plot(df)"
   ]
  },
  {
   "cell_type": "code",
   "execution_count": 21,
   "metadata": {
    "pycharm": {
     "is_executing": false
    }
   },
   "outputs": [
    {
     "traceback": [
      "\u001b[1;31m---------------------------------------------------------------------------\u001b[0m",
      "\u001b[1;31mKeyError\u001b[0m                                  Traceback (most recent call last)",
      "\u001b[1;32m<ipython-input-21-8f25033bab13>\u001b[0m in \u001b[0;36m<module>\u001b[1;34m\u001b[0m\n\u001b[0;32m      3\u001b[0m \u001b[0miqr\u001b[0m \u001b[1;33m=\u001b[0m \u001b[0mthird_quartiles\u001b[0m \u001b[1;33m-\u001b[0m \u001b[0mfirst_quartiles\u001b[0m\u001b[1;33m\u001b[0m\u001b[1;33m\u001b[0m\u001b[0m\n\u001b[0;32m      4\u001b[0m \u001b[1;33m\u001b[0m\u001b[0m\n\u001b[1;32m----> 5\u001b[1;33m \u001b[0mdf\u001b[0m\u001b[1;33m.\u001b[0m\u001b[0mloc\u001b[0m\u001b[1;33m[\u001b[0m\u001b[0mdf\u001b[0m \u001b[1;33m>\u001b[0m \u001b[0mthird_quartiles\u001b[0m \u001b[1;33m+\u001b[0m \u001b[1;36m1.5\u001b[0m \u001b[1;33m*\u001b[0m \u001b[0miqr\u001b[0m\u001b[1;33m,\u001b[0m \u001b[0mnp\u001b[0m\u001b[1;33m.\u001b[0m\u001b[0mNAN\u001b[0m\u001b[1;33m]\u001b[0m \u001b[1;33m=\u001b[0m \u001b[0mnp\u001b[0m\u001b[1;33m.\u001b[0m\u001b[0mNAN\u001b[0m\u001b[1;33m\u001b[0m\u001b[1;33m\u001b[0m\u001b[0m\n\u001b[0m\u001b[0;32m      6\u001b[0m \u001b[0mdf\u001b[0m\u001b[1;33m.\u001b[0m\u001b[0mloc\u001b[0m\u001b[1;33m[\u001b[0m\u001b[0mdf\u001b[0m \u001b[1;33m<\u001b[0m \u001b[0mfirst_quartiles\u001b[0m \u001b[1;33m-\u001b[0m \u001b[1;36m1.5\u001b[0m \u001b[1;33m*\u001b[0m \u001b[0miqr\u001b[0m\u001b[1;33m,\u001b[0m \u001b[0mnp\u001b[0m\u001b[1;33m.\u001b[0m\u001b[0mNAN\u001b[0m\u001b[1;33m]\u001b[0m \u001b[1;33m=\u001b[0m \u001b[0mnp\u001b[0m\u001b[1;33m.\u001b[0m\u001b[0mNAN\u001b[0m\u001b[1;33m\u001b[0m\u001b[1;33m\u001b[0m\u001b[0m\n\u001b[0;32m      7\u001b[0m \u001b[1;33m\u001b[0m\u001b[0m\n",
      "\u001b[1;32m~\\OneDrive\\Documents\\lib\\site-packages\\pandas\\core\\indexing.py\u001b[0m in \u001b[0;36m__setitem__\u001b[1;34m(self, key, value)\u001b[0m\n\u001b[0;32m    202\u001b[0m         \u001b[1;32melse\u001b[0m\u001b[1;33m:\u001b[0m\u001b[1;33m\u001b[0m\u001b[1;33m\u001b[0m\u001b[0m\n\u001b[0;32m    203\u001b[0m             \u001b[0mkey\u001b[0m \u001b[1;33m=\u001b[0m \u001b[0mcom\u001b[0m\u001b[1;33m.\u001b[0m\u001b[0mapply_if_callable\u001b[0m\u001b[1;33m(\u001b[0m\u001b[0mkey\u001b[0m\u001b[1;33m,\u001b[0m \u001b[0mself\u001b[0m\u001b[1;33m.\u001b[0m\u001b[0mobj\u001b[0m\u001b[1;33m)\u001b[0m\u001b[1;33m\u001b[0m\u001b[1;33m\u001b[0m\u001b[0m\n\u001b[1;32m--> 204\u001b[1;33m         \u001b[0mindexer\u001b[0m \u001b[1;33m=\u001b[0m \u001b[0mself\u001b[0m\u001b[1;33m.\u001b[0m\u001b[0m_get_setitem_indexer\u001b[0m\u001b[1;33m(\u001b[0m\u001b[0mkey\u001b[0m\u001b[1;33m)\u001b[0m\u001b[1;33m\u001b[0m\u001b[1;33m\u001b[0m\u001b[0m\n\u001b[0m\u001b[0;32m    205\u001b[0m         \u001b[0mself\u001b[0m\u001b[1;33m.\u001b[0m\u001b[0m_setitem_with_indexer\u001b[0m\u001b[1;33m(\u001b[0m\u001b[0mindexer\u001b[0m\u001b[1;33m,\u001b[0m \u001b[0mvalue\u001b[0m\u001b[1;33m)\u001b[0m\u001b[1;33m\u001b[0m\u001b[1;33m\u001b[0m\u001b[0m\n\u001b[0;32m    206\u001b[0m \u001b[1;33m\u001b[0m\u001b[0m\n",
      "\u001b[1;32m~\\OneDrive\\Documents\\lib\\site-packages\\pandas\\core\\indexing.py\u001b[0m in \u001b[0;36m_get_setitem_indexer\u001b[1;34m(self, key)\u001b[0m\n\u001b[0;32m    180\u001b[0m         \u001b[1;32mif\u001b[0m \u001b[0misinstance\u001b[0m\u001b[1;33m(\u001b[0m\u001b[0mkey\u001b[0m\u001b[1;33m,\u001b[0m \u001b[0mtuple\u001b[0m\u001b[1;33m)\u001b[0m\u001b[1;33m:\u001b[0m\u001b[1;33m\u001b[0m\u001b[1;33m\u001b[0m\u001b[0m\n\u001b[0;32m    181\u001b[0m             \u001b[1;32mtry\u001b[0m\u001b[1;33m:\u001b[0m\u001b[1;33m\u001b[0m\u001b[1;33m\u001b[0m\u001b[0m\n\u001b[1;32m--> 182\u001b[1;33m                 \u001b[1;32mreturn\u001b[0m \u001b[0mself\u001b[0m\u001b[1;33m.\u001b[0m\u001b[0m_convert_tuple\u001b[0m\u001b[1;33m(\u001b[0m\u001b[0mkey\u001b[0m\u001b[1;33m,\u001b[0m \u001b[0mis_setter\u001b[0m\u001b[1;33m=\u001b[0m\u001b[1;32mTrue\u001b[0m\u001b[1;33m)\u001b[0m\u001b[1;33m\u001b[0m\u001b[1;33m\u001b[0m\u001b[0m\n\u001b[0m\u001b[0;32m    183\u001b[0m             \u001b[1;32mexcept\u001b[0m \u001b[0mIndexingError\u001b[0m\u001b[1;33m:\u001b[0m\u001b[1;33m\u001b[0m\u001b[1;33m\u001b[0m\u001b[0m\n\u001b[0;32m    184\u001b[0m                 \u001b[1;32mpass\u001b[0m\u001b[1;33m\u001b[0m\u001b[1;33m\u001b[0m\u001b[0m\n",
      "\u001b[1;32m~\\OneDrive\\Documents\\lib\\site-packages\\pandas\\core\\indexing.py\u001b[0m in \u001b[0;36m_convert_tuple\u001b[1;34m(self, key, is_setter)\u001b[0m\n\u001b[0;32m    260\u001b[0m                 \u001b[1;32mif\u001b[0m \u001b[0mi\u001b[0m \u001b[1;33m>=\u001b[0m \u001b[0mself\u001b[0m\u001b[1;33m.\u001b[0m\u001b[0mobj\u001b[0m\u001b[1;33m.\u001b[0m\u001b[0mndim\u001b[0m\u001b[1;33m:\u001b[0m\u001b[1;33m\u001b[0m\u001b[1;33m\u001b[0m\u001b[0m\n\u001b[0;32m    261\u001b[0m                     \u001b[1;32mraise\u001b[0m \u001b[0mIndexingError\u001b[0m\u001b[1;33m(\u001b[0m\u001b[1;34m\"Too many indexers\"\u001b[0m\u001b[1;33m)\u001b[0m\u001b[1;33m\u001b[0m\u001b[1;33m\u001b[0m\u001b[0m\n\u001b[1;32m--> 262\u001b[1;33m                 \u001b[0midx\u001b[0m \u001b[1;33m=\u001b[0m \u001b[0mself\u001b[0m\u001b[1;33m.\u001b[0m\u001b[0m_convert_to_indexer\u001b[0m\u001b[1;33m(\u001b[0m\u001b[0mk\u001b[0m\u001b[1;33m,\u001b[0m \u001b[0maxis\u001b[0m\u001b[1;33m=\u001b[0m\u001b[0mi\u001b[0m\u001b[1;33m,\u001b[0m \u001b[0mis_setter\u001b[0m\u001b[1;33m=\u001b[0m\u001b[0mis_setter\u001b[0m\u001b[1;33m)\u001b[0m\u001b[1;33m\u001b[0m\u001b[1;33m\u001b[0m\u001b[0m\n\u001b[0m\u001b[0;32m    263\u001b[0m                 \u001b[0mkeyidx\u001b[0m\u001b[1;33m.\u001b[0m\u001b[0mappend\u001b[0m\u001b[1;33m(\u001b[0m\u001b[0midx\u001b[0m\u001b[1;33m)\u001b[0m\u001b[1;33m\u001b[0m\u001b[1;33m\u001b[0m\u001b[0m\n\u001b[0;32m    264\u001b[0m         \u001b[1;32mreturn\u001b[0m \u001b[0mtuple\u001b[0m\u001b[1;33m(\u001b[0m\u001b[0mkeyidx\u001b[0m\u001b[1;33m)\u001b[0m\u001b[1;33m\u001b[0m\u001b[1;33m\u001b[0m\u001b[0m\n",
      "\u001b[1;32m~\\OneDrive\\Documents\\lib\\site-packages\\pandas\\core\\indexing.py\u001b[0m in \u001b[0;36m_convert_to_indexer\u001b[1;34m(self, obj, axis, is_setter, raise_missing)\u001b[0m\n\u001b[0;32m   1283\u001b[0m                 \u001b[1;31m# When setting, missing keys are not allowed, even with .loc:\u001b[0m\u001b[1;33m\u001b[0m\u001b[1;33m\u001b[0m\u001b[1;33m\u001b[0m\u001b[0m\n\u001b[0;32m   1284\u001b[0m                 \u001b[0mkwargs\u001b[0m \u001b[1;33m=\u001b[0m \u001b[1;33m{\u001b[0m\u001b[1;34m\"raise_missing\"\u001b[0m\u001b[1;33m:\u001b[0m \u001b[1;32mTrue\u001b[0m \u001b[1;32mif\u001b[0m \u001b[0mis_setter\u001b[0m \u001b[1;32melse\u001b[0m \u001b[0mraise_missing\u001b[0m\u001b[1;33m}\u001b[0m\u001b[1;33m\u001b[0m\u001b[1;33m\u001b[0m\u001b[0m\n\u001b[1;32m-> 1285\u001b[1;33m                 \u001b[1;32mreturn\u001b[0m \u001b[0mself\u001b[0m\u001b[1;33m.\u001b[0m\u001b[0m_get_listlike_indexer\u001b[0m\u001b[1;33m(\u001b[0m\u001b[0mobj\u001b[0m\u001b[1;33m,\u001b[0m \u001b[0maxis\u001b[0m\u001b[1;33m,\u001b[0m \u001b[1;33m**\u001b[0m\u001b[0mkwargs\u001b[0m\u001b[1;33m)\u001b[0m\u001b[1;33m[\u001b[0m\u001b[1;36m1\u001b[0m\u001b[1;33m]\u001b[0m\u001b[1;33m\u001b[0m\u001b[1;33m\u001b[0m\u001b[0m\n\u001b[0m\u001b[0;32m   1286\u001b[0m         \u001b[1;32melse\u001b[0m\u001b[1;33m:\u001b[0m\u001b[1;33m\u001b[0m\u001b[1;33m\u001b[0m\u001b[0m\n\u001b[0;32m   1287\u001b[0m             \u001b[1;32mtry\u001b[0m\u001b[1;33m:\u001b[0m\u001b[1;33m\u001b[0m\u001b[1;33m\u001b[0m\u001b[0m\n",
      "\u001b[1;32m~\\OneDrive\\Documents\\lib\\site-packages\\pandas\\core\\indexing.py\u001b[0m in \u001b[0;36m_get_listlike_indexer\u001b[1;34m(self, key, axis, raise_missing)\u001b[0m\n\u001b[0;32m   1090\u001b[0m \u001b[1;33m\u001b[0m\u001b[0m\n\u001b[0;32m   1091\u001b[0m         self._validate_read_indexer(\n\u001b[1;32m-> 1092\u001b[1;33m             \u001b[0mkeyarr\u001b[0m\u001b[1;33m,\u001b[0m \u001b[0mindexer\u001b[0m\u001b[1;33m,\u001b[0m \u001b[0mo\u001b[0m\u001b[1;33m.\u001b[0m\u001b[0m_get_axis_number\u001b[0m\u001b[1;33m(\u001b[0m\u001b[0maxis\u001b[0m\u001b[1;33m)\u001b[0m\u001b[1;33m,\u001b[0m \u001b[0mraise_missing\u001b[0m\u001b[1;33m=\u001b[0m\u001b[0mraise_missing\u001b[0m\u001b[1;33m\u001b[0m\u001b[1;33m\u001b[0m\u001b[0m\n\u001b[0m\u001b[0;32m   1093\u001b[0m         )\n\u001b[0;32m   1094\u001b[0m         \u001b[1;32mreturn\u001b[0m \u001b[0mkeyarr\u001b[0m\u001b[1;33m,\u001b[0m \u001b[0mindexer\u001b[0m\u001b[1;33m\u001b[0m\u001b[1;33m\u001b[0m\u001b[0m\n",
      "\u001b[1;32m~\\OneDrive\\Documents\\lib\\site-packages\\pandas\\core\\indexing.py\u001b[0m in \u001b[0;36m_validate_read_indexer\u001b[1;34m(self, key, indexer, axis, raise_missing)\u001b[0m\n\u001b[0;32m   1175\u001b[0m                 raise KeyError(\n\u001b[0;32m   1176\u001b[0m                     \"None of [{key}] are in the [{axis}]\".format(\n\u001b[1;32m-> 1177\u001b[1;33m                         \u001b[0mkey\u001b[0m\u001b[1;33m=\u001b[0m\u001b[0mkey\u001b[0m\u001b[1;33m,\u001b[0m \u001b[0maxis\u001b[0m\u001b[1;33m=\u001b[0m\u001b[0mself\u001b[0m\u001b[1;33m.\u001b[0m\u001b[0mobj\u001b[0m\u001b[1;33m.\u001b[0m\u001b[0m_get_axis_name\u001b[0m\u001b[1;33m(\u001b[0m\u001b[0maxis\u001b[0m\u001b[1;33m)\u001b[0m\u001b[1;33m\u001b[0m\u001b[1;33m\u001b[0m\u001b[0m\n\u001b[0m\u001b[0;32m   1178\u001b[0m                     )\n\u001b[0;32m   1179\u001b[0m                 )\n",
      "\u001b[1;31mKeyError\u001b[0m: \"None of [Index([          ('c', 'h', '_', '0'),           ('c', 'h', '_', '1'),\\n            ('c', 'h', '_', '1', '0'), ('c', 'h', '_', '1', '0', '0'),\\n       ('c', 'h', '_', '1', '0', '1'), ('c', 'h', '_', '1', '0', '2'),\\n       ('c', 'h', '_', '1', '0', '3'), ('c', 'h', '_', '1', '0', '4'),\\n       ('c', 'h', '_', '1', '0', '5'), ('c', 'h', '_', '1', '0', '6'),\\n       ...\\n            ('c', 'h', '_', '9', '0'),      ('c', 'h', '_', '9', '1'),\\n            ('c', 'h', '_', '9', '2'),      ('c', 'h', '_', '9', '3'),\\n            ('c', 'h', '_', '9', '4'),      ('c', 'h', '_', '9', '5'),\\n            ('c', 'h', '_', '9', '6'),      ('c', 'h', '_', '9', '7'),\\n            ('c', 'h', '_', '9', '8'),      ('c', 'h', '_', '9', '9')],\\n      dtype='object', length=142)] are in the [index]\""
     ],
     "ename": "KeyError",
     "evalue": "\"None of [Index([          ('c', 'h', '_', '0'),           ('c', 'h', '_', '1'),\\n            ('c', 'h', '_', '1', '0'), ('c', 'h', '_', '1', '0', '0'),\\n       ('c', 'h', '_', '1', '0', '1'), ('c', 'h', '_', '1', '0', '2'),\\n       ('c', 'h', '_', '1', '0', '3'), ('c', 'h', '_', '1', '0', '4'),\\n       ('c', 'h', '_', '1', '0', '5'), ('c', 'h', '_', '1', '0', '6'),\\n       ...\\n            ('c', 'h', '_', '9', '0'),      ('c', 'h', '_', '9', '1'),\\n            ('c', 'h', '_', '9', '2'),      ('c', 'h', '_', '9', '3'),\\n            ('c', 'h', '_', '9', '4'),      ('c', 'h', '_', '9', '5'),\\n            ('c', 'h', '_', '9', '6'),      ('c', 'h', '_', '9', '7'),\\n            ('c', 'h', '_', '9', '8'),      ('c', 'h', '_', '9', '9')],\\n      dtype='object', length=142)] are in the [index]\"",
     "output_type": "error"
    }
   ],
   "source": [
    "first_quartiles = df.quantile(q = 0.25, axis = 0)\n",
    "third_quartiles = df.quantile(q = 0.75, axis = 0)\n",
    "iqr = third_quartiles - first_quartiles\n",
    "\n",
    "df.loc[df > third_quartiles + 1.5 * iqr, np.NAN] = np.NAN\n",
    "df.loc[df < first_quartiles - 1.5 * iqr, np.NAN] = np.NAN\n",
    "\n",
    "df\n",
    "\n",
    "# non_outliers = df.loc[(df >= first_quartiles - 1.5 * iqr) & (df <= third_quartiles + 1.5 * iqr)]"
   ]
  },
  {
   "cell_type": "code",
   "execution_count": null,
   "metadata": {
    "pycharm": {
     "is_executing": false
    }
   },
   "outputs": [],
   "source": []
  }
 ],
 "metadata": {
  "kernelspec": {
   "display_name": "Python 3",
   "language": "python",
   "name": "python3"
  },
  "language_info": {
   "codemirror_mode": {
    "name": "ipython",
    "version": 3
   },
   "file_extension": ".py",
   "mimetype": "text/x-python",
   "name": "python",
   "nbconvert_exporter": "python",
   "pygments_lexer": "ipython3",
   "version": "3.7.4"
  }
 },
 "nbformat": 4,
 "nbformat_minor": 2
}